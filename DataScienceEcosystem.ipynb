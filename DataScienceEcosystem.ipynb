{
 "cells": [
  {
   "cell_type": "markdown",
   "id": "aafc2d01",
   "metadata": {},
   "source": [
    "Exercies 2\n",
    "\n",
    "# Data Science Tools and Ecosystem"
   ]
  },
  {
   "cell_type": "markdown",
   "id": "a901e59d",
   "metadata": {},
   "source": [
    "Exercise 3\n",
    "\n",
    "In this notebook, Data Science Tools and Ecosystem are summarized."
   ]
  },
  {
   "cell_type": "markdown",
   "id": "dbfe90f6",
   "metadata": {},
   "source": [
    "Exercise 4\n",
    "\n",
    "Some of the popular languages that Data Scientists use are:\n",
    "    \n",
    "    1. Python\n",
    "    2. R\n",
    "    3. SQL"
   ]
  },
  {
   "cell_type": "markdown",
   "id": "024da53c",
   "metadata": {},
   "source": [
    "Exercise 5\n",
    "\n",
    "Some of the commonly used libraries used by Data Scientists include:\n",
    "    \n",
    "    1. Pandas\n",
    "    2. Numpy\n",
    "    3. Matplotlib\n",
    "    4. Seaborn\n",
    "    5. Scikit learn"
   ]
  },
  {
   "cell_type": "markdown",
   "id": "cecd3730",
   "metadata": {},
   "source": [
    "Exercise 6\n",
    "\n",
    "|Data Science Tools|\n",
    "|------------------|\n",
    "|Jupyter Notebook|\n",
    "|Tableau|\n",
    "|Apache Spark|"
   ]
  },
  {
   "cell_type": "markdown",
   "id": "b03879a0",
   "metadata": {},
   "source": [
    "Exercise 7\n",
    "\n",
    "### Below are a few examples of evaluating arithmetic expressions in Python"
   ]
  },
  {
   "cell_type": "code",
   "execution_count": 3,
   "id": "3dd9bf76",
   "metadata": {},
   "outputs": [
    {
     "data": {
      "text/plain": [
       "17"
      ]
     },
     "execution_count": 3,
     "metadata": {},
     "output_type": "execute_result"
    }
   ],
   "source": [
    "# Exercise 8\n",
    "\n",
    "(3*4)+5 #This a simple arithmetic expression to mutiply then add integers"
   ]
  },
  {
   "cell_type": "code",
   "execution_count": 4,
   "id": "6d871378",
   "metadata": {},
   "outputs": [
    {
     "name": "stdout",
     "output_type": "stream",
     "text": [
      "3.3333333333333335\n"
     ]
    }
   ],
   "source": [
    "# Exercise 9\n",
    "\n",
    "minutes = 200\n",
    "hours = minutes/60 #This will convert 200 minutes to hours by diving by 60\n",
    "print(hours)"
   ]
  },
  {
   "cell_type": "markdown",
   "id": "06e5a21d",
   "metadata": {},
   "source": [
    "Exercise 10\n",
    "\n",
    "**Objectives:**\n",
    "\n",
    " - List popular languages for Data Science\n",
    " - List popular languages for Data Science\n",
    " - create a code for converting minutes to hours"
   ]
  },
  {
   "cell_type": "markdown",
   "id": "ad313585",
   "metadata": {},
   "source": [
    "Exercise 11\n",
    "\n",
    "## Author\n",
    "\n",
    "Karthiga"
   ]
  },
  {
   "cell_type": "code",
   "execution_count": null,
   "id": "abe3b1f1",
   "metadata": {},
   "outputs": [],
   "source": []
  }
 ],
 "metadata": {
  "kernelspec": {
   "display_name": "Python 3 (ipykernel)",
   "language": "python",
   "name": "python3"
  },
  "language_info": {
   "codemirror_mode": {
    "name": "ipython",
    "version": 3
   },
   "file_extension": ".py",
   "mimetype": "text/x-python",
   "name": "python",
   "nbconvert_exporter": "python",
   "pygments_lexer": "ipython3",
   "version": "3.10.5"
  }
 },
 "nbformat": 4,
 "nbformat_minor": 5
}
